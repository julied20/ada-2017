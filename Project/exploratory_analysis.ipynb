{
 "cells": [
  {
   "cell_type": "markdown",
   "metadata": {},
   "source": [
    "# Milestone 2 - Exploratory Analysis\n",
    "\n",
    "This notebook regroups the different plots of the exploratory analysis of our dataset. \n",
    "To see all plots and maps, we invite you to follow [this NBviewer link](https://nbviewer.jupyter.org/github/julied20/ada-2017/blob/master/Project/exploratory_analysis.ipynb?flush_cache=true)"
   ]
  },
  {
   "cell_type": "code",
   "execution_count": 1,
   "metadata": {
    "collapsed": true
   },
   "outputs": [],
   "source": [
    "import pandas as pd\n",
    "import requests\n",
    "import re\n",
    "import numpy as np\n",
    "import seaborn as sns\n",
    "import matplotlib.pyplot as plt\n",
    "import folium\n",
    "import os\n",
    "import branca.colormap as cm\n",
    "\n",
    "from helpers.conflict_extraction import *\n",
    "from helpers.data_extraction import *"
   ]
  },
  {
   "cell_type": "code",
   "execution_count": 2,
   "metadata": {
    "scrolled": false
   },
   "outputs": [
    {
     "name": "stdout",
     "output_type": "stream",
     "text": [
      "Creation of the European ex colonies dataframe...\n",
      "\n",
      "Denmark ...\n",
      "France ...\n",
      "Netherlands ...\n",
      "Norway ...\n",
      "Portugal ...\n",
      "Russia ...\n",
      "Spain ...\n",
      "Sweden ...\n",
      "Brandenburg ...\n",
      "Britain ...\n",
      "Courland ...\n",
      "Denmark-Norway ...\n",
      "Knights of Malta ...\n",
      "Belgium ...\n",
      "Germany ...\n",
      "Italy ...\n",
      "Austria ...\n",
      "United Kingdom ...\n",
      "Germany ...\n",
      "Greece ...\n",
      "\n",
      "Creation of the different conflicts dataframe...\n",
      "\n"
     ]
    },
    {
     "name": "stderr",
     "output_type": "stream",
     "text": [
      "Widget Javascript not detected.  It may not be installed or enabled properly.\n"
     ]
    },
    {
     "data": {
      "application/vnd.jupyter.widget-view+json": {
       "model_id": "ef710bcba34c43f5989090a24dcf830d"
      }
     },
     "metadata": {},
     "output_type": "display_data"
    },
    {
     "name": "stderr",
     "output_type": "stream",
     "text": [
      "/home/jean/anaconda3/lib/python3.6/site-packages/pandas/core/indexing.py:337: SettingWithCopyWarning: \n",
      "A value is trying to be set on a copy of a slice from a DataFrame.\n",
      "Try using .loc[row_indexer,col_indexer] = value instead\n",
      "\n",
      "See the caveats in the documentation: http://pandas.pydata.org/pandas-docs/stable/indexing.html#indexing-view-versus-copy\n",
      "  self.obj[key] = _infer_fill_value(value)\n",
      "/home/jean/anaconda3/lib/python3.6/site-packages/pandas/core/indexing.py:517: SettingWithCopyWarning: \n",
      "A value is trying to be set on a copy of a slice from a DataFrame.\n",
      "Try using .loc[row_indexer,col_indexer] = value instead\n",
      "\n",
      "See the caveats in the documentation: http://pandas.pydata.org/pandas-docs/stable/indexing.html#indexing-view-versus-copy\n",
      "  self.obj[item] = s\n"
     ]
    },
    {
     "name": "stdout",
     "output_type": "stream",
     "text": [
      "\n"
     ]
    }
   ],
   "source": [
    "# Datasets creation/loading\n",
    "create_df_from_scratch = False\n",
    "\n",
    "if create_df_from_scratch:\n",
    "    print(\"Creation of the European ex colonies dataframe...\\n\")\n",
    "    colonization_df = get_wikipedia_dataframe()\n",
    "    print(\"\\nCreation of the different conflicts dataframe...\\n\")\n",
    "    clean_conflict, pre_colonization_conflict_df, post_colonization_conflict_df, yr_conflict_df = get_colonization_conflicts_df()\n",
    "else:\n",
    "    colonization_df = pd.read_csv('datasets/colonies_wikipedia.csv')\n",
    "    clean_conflict  = pd.read_csv('datasets/colonization_conflict_general.csv')\n",
    "    pre_colonization_conflict_df  = pd.read_csv('datasets/colonization_conflict_pre.csv')\n",
    "    post_colonization_conflict_df = pd.read_csv('datasets/colonization_conflict_post.csv')\n",
    "    yr_conflict_df = pd.read_csv('datasets/colonization_conflict_year_regions.csv')"
   ]
  },
  {
   "cell_type": "markdown",
   "metadata": {},
   "source": [
    "## Colonisation\n",
    "\n",
    "### Most colonizing countries\n",
    "\n",
    "We will first observe which countries were the biggest colonisers over the past centuries. We observe that all of them are Europeans, with the UK presents under two names: UK and Britain."
   ]
  },
  {
   "cell_type": "code",
   "execution_count": 3,
   "metadata": {
    "collapsed": true
   },
   "outputs": [],
   "source": [
    "colonies_df = colonization_df"
   ]
  },
  {
   "cell_type": "code",
   "execution_count": 4,
   "metadata": {
    "scrolled": false
   },
   "outputs": [
    {
     "data": {
      "image/png": "[encoded data removed]",
      "text/plain": [
       "<matplotlib.figure.Figure at 0x7fb29f5d0978>"
      ]
     },
     "metadata": {},
     "output_type": "display_data"
    }
   ],
   "source": [
    "x = np.linspace(0,8,9)\n",
    "my_xticks = colonies_df['Colonizer Country'].value_counts().index\n",
    "y = colonies_df['Colonizer Country'].value_counts().values\n",
    "\n",
    "plt.figure(figsize=(20,10), dpi=60, facecolor='w', edgecolor='k')\n",
    "sns.set(style=\"whitegrid\")\n",
    "sns.barplot(x,y,palette=\"Reds_d\")\n",
    "plt.xticks(x, my_xticks, fontsize = 13)\n",
    "plt.ylabel('Number of colonies')\n",
    "plt.title('Most colonizing countries')\n",
    "plt.show()"
   ]
  },
  {
   "cell_type": "markdown",
   "metadata": {},
   "source": [
    "### Map of Colonisation\n",
    "\n",
    "Considering the results found above on the most colonising countries, we take the 9 first colonizers and plot them below. (United Kingdom, France, Russia, Portugal, Spain, Netherlands, Belgium, Italy and Denmark)"
   ]
  },
  {
   "cell_type": "code",
   "execution_count": 5,
   "metadata": {
    "collapsed": true
   },
   "outputs": [],
   "source": [
    "def colonisers_colors(country_id):\n",
    "    \"\"\"Maps each colonizing country with a different color\"\"\"\n",
    "    \n",
    "    if not country_id:\n",
    "        return '#808080'\n",
    "    \n",
    "    if colonies_df['ID'].str.contains(country_id).sum()>0:\n",
    "        country = colonies_df.loc[colonies_df['ID'] == country_id, 'Colonizer Country'].values[0]\n",
    "    else:\n",
    "        country = 'NaN'\n",
    "        \n",
    "    if country == 'France':\n",
    "        return '#3399ff' # Dark Blue\n",
    "    if (country == 'United Kingdom') or (country == 'Britain'):\n",
    "        return '#ff0000' # Red\n",
    "    if country == 'Russia':\n",
    "        return '#ffffff' # Blue\n",
    "    if country == 'Portugal':\n",
    "        return '#66ff66' # Light Green\n",
    "    if country == 'Spain':\n",
    "        return '#ffff66' # Yellow     \n",
    "    if country == 'Netherlands':\n",
    "        return '#ff9900' # Orange       \n",
    "    if country == 'Belgium':\n",
    "        return '#ff33cc' # Pink     \n",
    "    if country == 'Denmark':\n",
    "        return '#800000' # Dark Green\n",
    "    if country == 'Italy':\n",
    "        return '#339966' # Dark Green\n",
    "    if country == 'None':\n",
    "        return '#808080'\n",
    "    else:\n",
    "        return '#808080'"
   ]
  },
  {
   "cell_type": "code",
   "execution_count": 6,
   "metadata": {},
   "outputs": [
    {
     "ename": "NameError",
     "evalue": "name 'colonisation_df' is not defined",
     "output_type": "error",
     "traceback": [
      "\u001b[0;31m---------------------------------------------------------------------------\u001b[0m",
      "\u001b[0;31mNameError\u001b[0m                                 Traceback (most recent call last)",
      "\u001b[0;32m<ipython-input-6-4e1871f98c9f>\u001b[0m in \u001b[0;36m<module>\u001b[0;34m()\u001b[0m\n\u001b[1;32m      1\u001b[0m \u001b[0;31m# Initialisation of Json and dataset\u001b[0m\u001b[0;34m\u001b[0m\u001b[0;34m\u001b[0m\u001b[0m\n\u001b[0;32m----> 2\u001b[0;31m \u001b[0mcolonies_df\u001b[0m \u001b[0;34m=\u001b[0m \u001b[0mcolonisation_df\u001b[0m\u001b[0;34m\u001b[0m\u001b[0m\n\u001b[0m\u001b[1;32m      3\u001b[0m \u001b[0mworld_edge\u001b[0m \u001b[0;34m=\u001b[0m \u001b[0mos\u001b[0m\u001b[0;34m.\u001b[0m\u001b[0mpath\u001b[0m\u001b[0;34m.\u001b[0m\u001b[0mjoin\u001b[0m\u001b[0;34m(\u001b[0m\u001b[0;34m'maps'\u001b[0m\u001b[0;34m,\u001b[0m \u001b[0;34m'world.json'\u001b[0m\u001b[0;34m)\u001b[0m\u001b[0;34m\u001b[0m\u001b[0m\n\u001b[1;32m      4\u001b[0m \u001b[0;34m\u001b[0m\u001b[0m\n\u001b[1;32m      5\u001b[0m \u001b[0;31m# Creation of colony_map\u001b[0m\u001b[0;34m\u001b[0m\u001b[0;34m\u001b[0m\u001b[0m\n",
      "\u001b[0;31mNameError\u001b[0m: name 'colonisation_df' is not defined"
     ]
    }
   ],
   "source": [
    "# Initialisation of Json and dataset\n",
    "colonies_df = colonisation_df\n",
    "world_edge = os.path.join('maps', 'world.json')\n",
    "\n",
    "# Creation of colony_map\n",
    "colony_map = folium.Map([30,0], tiles='cartodbpositron', zoom_start=2)\n",
    "folium.GeoJson(\n",
    "    world_edge,\n",
    "    name='geojson'\n",
    ").add_to(colony_map)"
   ]
  },
  {
   "cell_type": "code",
   "execution_count": null,
   "metadata": {
    "collapsed": true,
    "scrolled": false
   },
   "outputs": [],
   "source": [
    "# Adding color filters to the map\n",
    "folium.GeoJson(\n",
    "    world_edge,\n",
    "    style_function=lambda feature: {\n",
    "        'fillColor': colonisers_colors(feature['properties']['iso_a2']),\n",
    "        'color' : 'black',\n",
    "        'weight' : 1,\n",
    "        'fill_opacity' : 1,\n",
    "        'line_opacity':1,\n",
    "        'opacity': 0.5\n",
    "        }\n",
    "    ).add_to(colony_map)\n",
    "\n",
    "colony_map"
   ]
  },
  {
   "cell_type": "code",
   "execution_count": null,
   "metadata": {
    "collapsed": true
   },
   "outputs": [],
   "source": [
    "print (\"_____Legend____\")\n",
    "print (\"Red - United Kingdom / Blue - France / Yellow - Spain / Orange - Portugal / White - Russia / Dark Green - Italy /    Light Green - Portugal / Brown - Denmark\")"
   ]
  },
  {
   "cell_type": "markdown",
   "metadata": {},
   "source": [
    "All continents were touched by the European colonizers. Some countries like the United States and China are classified as French colonies, where in reality France only possessed partial places of the country, along with other colonizers."
   ]
  },
  {
   "cell_type": "markdown",
   "metadata": {},
   "source": [
    "## Decolonization Movement\n",
    "\n",
    "\n",
    "By looking at the deconolisation dates, we can observe when European Colonisers has lost their grasps on their colonies. (Happening by vague in continents? Communicating between continents? Map of the decolonisation date would be good to look at limitrophs countries)"
   ]
  },
  {
   "cell_type": "code",
   "execution_count": null,
   "metadata": {
    "collapsed": true
   },
   "outputs": [],
   "source": [
    "decolonisation_df = colonisation_df\n",
    "new_df = decolonisation_df.dropna()\n",
    "new_df = new_df[new_df['Year'] != '1991b']"
   ]
  },
  {
   "cell_type": "code",
   "execution_count": null,
   "metadata": {
    "collapsed": true
   },
   "outputs": [],
   "source": [
    "df1 = new_df['Year']\n",
    "df1=df1.astype(float)\n",
    "\n",
    "plt.figure(figsize=(20,5), dpi=60, facecolor='w', edgecolor='k')\n",
    "y = df1.value_counts()\n",
    "y = y.sort_index()\n",
    "plt.bar(y.index.values, y.values,width=1,color = 'red')\n",
    "plt.xlabel('Year')\n",
    "plt.xticks(fontsize = 13, rotation='vertical')\n",
    "plt.ylabel('Number of independance declared')\n",
    "plt.grid(False)\n",
    "plt.title('Evolution of the independance movement', fontsize = 13)\n",
    "plt.show()"
   ]
  },
  {
   "cell_type": "markdown",
   "metadata": {},
   "source": [
    "The independance movement of former colonies began before the XIXth century. The observe that there was a first wave after 1800, then a few over time. Until after the IInd World War, where the movement expanded. It might come from the treatment and misunderstanding of the colonies in a war where they weren't concerned by the belligerants motivations. \n",
    "\n",
    "To push further our analysis, we want to observe if those independance were also geographically correlated."
   ]
  },
  {
   "cell_type": "code",
   "execution_count": null,
   "metadata": {
    "collapsed": true
   },
   "outputs": [],
   "source": [
    "def independance_colors(country_id):\n",
    "    \"\"\"Maps each colonizing country with a different color\"\"\"\n",
    "    \n",
    "    if colonies_df['ID'].str.contains(country_id).sum()>0:\n",
    "        date = decolonisation_df.loc[decolonisation_df['ID'] == country_id, 'Year'].values[0]\n",
    "    else:\n",
    "        date = 'NaN'\n",
    "    \n",
    "    if str(date) == 'NaN' or str(date) == 'nan':\n",
    "        return '#808080'\n",
    "    \n",
    "    if str(date) == '1991b':\n",
    "        date = 1991\n",
    "    \n",
    "    date = int(date)\n",
    "    if date < 1850:\n",
    "        return '#f7fed9'\n",
    "    elif date < 1930:\n",
    "        return '#f5eb00'\n",
    "    elif date < 1955:\n",
    "        return '#ffa900'\n",
    "    elif date < 1980:\n",
    "        return '#ff4013'\n",
    "    else:\n",
    "        return '#a10006'"
   ]
  },
  {
   "cell_type": "code",
   "execution_count": null,
   "metadata": {
    "collapsed": true
   },
   "outputs": [],
   "source": [
    "step = cm.StepColormap(\n",
    "    ['#f7fed9', '#f5eb00', '#ffa900','#ff4013','#a10006'],\n",
    "    vmin=1810, vmax=2010,\n",
    "    index=[1810,1850, 1930, 1955, 1980,2010],\n",
    "    caption='Independance Date'\n",
    ")"
   ]
  },
  {
   "cell_type": "code",
   "execution_count": null,
   "metadata": {
    "collapsed": true
   },
   "outputs": [],
   "source": [
    "# Initialisation of Json and dataset\n",
    "colonies_df = colonisation_df\n",
    "world_edge = os.path.join('maps', 'world.json')\n",
    "\n",
    "# Creation of colony_map\n",
    "independance_map = folium.Map([30,0], tiles='cartodbpositron', zoom_start=2)\n",
    "folium.GeoJson(\n",
    "    world_edge,\n",
    "    name='geojson'\n",
    ").add_to(independance_map)\n",
    "\n",
    "# Adding color filters to the map\n",
    "folium.GeoJson(\n",
    "    world_edge,\n",
    "    style_function=lambda feature: {\n",
    "        'color' : 'black',\n",
    "        'fillColor': independance_colors(feature['properties']['iso_a2']),\n",
    "        'weight' : 1,\n",
    "        'opacity': 0.5,\n",
    "        'fill_opacity': 1,\n",
    "        'line_opacity': 1\n",
    "        }\n",
    "    ).add_to(independance_map)\n",
    "step.caption = 'Independance Date'\n",
    "independance_map.add_child(step)\n",
    "\n",
    "independance_map"
   ]
  },
  {
   "cell_type": "markdown",
   "metadata": {},
   "source": [
    "With this map, it becomes evident that the decolonization movement was also initiated by geographic proximity. The first wave we observed is located in the Americas and began around the 1800s. \n",
    "\n",
    "Africa seemed to have been decolonized through waves. It can be explained as the division of countries nowadays doesn't necessarily represent the past colonies, which were way bigger in size. The colonizers often divided them during the decolonization, bringing some regional conflicts that we still hear about today (India and Pakistan for example)."
   ]
  },
  {
   "cell_type": "markdown",
   "metadata": {},
   "source": [
    "## History of conflicts in Modern History\n",
    "\n",
    "### Presence of conflicts on continents\n",
    "\n",
    "In this part, all conflicts are taken into account, given that they present more than 25 casualties.\n",
    "Maybe separating this table also between minor and major conflicts would be relevant."
   ]
  },
  {
   "cell_type": "code",
   "execution_count": null,
   "metadata": {
    "collapsed": true
   },
   "outputs": [],
   "source": [
    "ucdp_df = clean_conflict\n",
    "ucdp_df.head()"
   ]
  },
  {
   "cell_type": "code",
   "execution_count": null,
   "metadata": {
    "collapsed": true
   },
   "outputs": [],
   "source": [
    "x = np.linspace(1,5,5)\n",
    "y_ = ucdp_df['region'].value_counts().values\n",
    "y = y_[:5]\n",
    "myticks = ['Asia','Africa','Middle East','Americas','Europe']\n",
    "\n",
    "plt.figure(figsize=(20,10), dpi=60, facecolor='w', edgecolor='k')\n",
    "sns.set(style=\"whitegrid\")\n",
    "sns.barplot(x,y,palette=\"Reds_d\")\n",
    "plt.ylabel('Number of conflicts')\n",
    "plt.title('Number of conflicts per Regions')\n",
    "plt.xticks(x-1,myticks)\n",
    "plt.show()"
   ]
  },
  {
   "cell_type": "markdown",
   "metadata": {},
   "source": [
    "Since 1945, most of the international conflicts happened either in Asia or Africa, the main continents of the decolonisations of the XXth century. "
   ]
  },
  {
   "cell_type": "markdown",
   "metadata": {},
   "source": [
    "### What are they fighting for?\n"
   ]
  },
  {
   "cell_type": "code",
   "execution_count": null,
   "metadata": {
    "collapsed": true
   },
   "outputs": [],
   "source": [
    "cleaned_df = ucdp_df.loc[~ucdp_df['region'].isin(['1, 3', '1, 2', '1, 4', '1, 5', '1, 3, 5', '1, 2, 3, 5'])]\n",
    "myticks = ['Europe','Middle East','Asia','Africa','Americas']\n",
    "df2 = cleaned_df.groupby(['region', 'incomp'])['region'].count().unstack('incomp').fillna(0)\n",
    "\n",
    "plt.figure(figsize=(20,10), dpi=60, facecolor='w', edgecolor='k')\n",
    "df2[[1,2,3]].plot(kind='bar', stacked=True, figsize = (20,10), fontsize = 13)\n",
    "plt.xticks(np.linspace(1,5,5)-1, myticks)\n",
    "plt.legend(['Territories', 'Governments', 'Territories & Governements'],fontsize = 11)\n",
    "plt.title('Origin of conflicts per continents', fontsize = 14)\n",
    "plt.ylabel('Number of conflicts')\n",
    "plt.show()"
   ]
  },
  {
   "cell_type": "markdown",
   "metadata": {},
   "source": [
    "As we explained above, the decolonisation process often excluded the history of the previous state entities. They ignored the territorial claims and tribes divisions to draw lines on maps (mainly in Africa). Thus, we observe that in both 'colonized' continents, most of the conflicts emerge from territorial claims. Then, the instability of the local states and governments is highlited by the high level of governemental conflicts, with new groups trying to reach powers in former colonies."
   ]
  },
  {
   "cell_type": "markdown",
   "metadata": {},
   "source": [
    "### Evolution of conflicts\n",
    "\n",
    "To better understands the history of conflicts throughout the world, we plot the number of conflicts over time from 1946 to 2016 on all continents. "
   ]
  },
  {
   "cell_type": "code",
   "execution_count": null,
   "metadata": {
    "collapsed": true
   },
   "outputs": [],
   "source": [
    "cleaned_df = ucdp_df.loc[~ucdp_df['region'].isin(['1, 3', '1, 2', '1, 4', '1, 5', '1, 3, 5', '1, 2, 3, 5'])]\n",
    "\n",
    "myticks = ['Europe','Middle East','Asia','Africa','Americas']\n",
    "df2 = cleaned_df.groupby(['year', 'region'])['year'].count().unstack('region').fillna(0)\n",
    "\n",
    "plt.figure(figsize=(20,10), dpi=60, facecolor='w', edgecolor='k')\n",
    "df2.plot(kind='bar', stacked=True, figsize = (20,10), fontsize = 13, width = 1)\n",
    "#plt.xticks(np.linspace(1,5,5)-1, myticks)\n",
    "plt.legend(['Europe','Middle East','Asia','Africa','Americas'],fontsize = 11)\n",
    "plt.title('Number of conflicts per year and per continent', fontsize = 14)\n",
    "plt.ylabel('Number of conflicts')\n",
    "plt.show()"
   ]
  },
  {
   "cell_type": "markdown",
   "metadata": {},
   "source": [
    "By beginning our observations by the 'old-continent', Europe, we observe that the number of conflicts is declining after the end of the IInd World War, to stagnate to almost no-conflicts for a long period. The Yugoslav war that begun in 1991 stop this period of peace that we continue to live with the conflicts in Eastern Europe with Russia.\n",
    "\n",
    "The most important observation is that the conflicts seemed almost non-existant in Africa after the World War and began to took importance on the continent starting in 1952. This date also corresponds to the independance of Lybia, the first country to achieve independence through the United Nations and one of the first former European possessions in Africa to gain independence. "
   ]
  },
  {
   "cell_type": "markdown",
   "metadata": {},
   "source": [
    "### Closer look at colonized continents\n",
    "\n",
    "With the graph above, we observe some simple tendancies that needs to be refined for each colonized continents. One can observe below the evolution of conflicts for each continents. Africa saw its conflict grow after the seconf world war to remain instable up to this day. In comparison, Asia presents an almost constant number of conflicts over time.\n",
    "Middle East in another hand is alterning between low conflicts period and higher ones. We observe a rise in the conflicts in the 1970s during the wars with Israel."
   ]
  },
  {
   "cell_type": "code",
   "execution_count": null,
   "metadata": {
    "collapsed": true
   },
   "outputs": [],
   "source": [
    "def evolution_conflict(df, string_):\n",
    "    plt.figure(figsize=(20,5), dpi=60, facecolor='w', edgecolor='k')\n",
    "    y = df['year'].value_counts()\n",
    "    y = y.sort_index()\n",
    "    sns.barplot(y.index, y.values,palette=\"Reds_d\")\n",
    "    plt.xlabel('Year')\n",
    "    plt.xticks(fontsize = 13,rotation='vertical')\n",
    "    plt.ylabel('Number of conflicts')\n",
    "    plt.title('Evolution of conflicts in %s' %(string_))\n",
    "    plt.show()"
   ]
  },
  {
   "cell_type": "code",
   "execution_count": null,
   "metadata": {
    "collapsed": true,
    "scrolled": true
   },
   "outputs": [],
   "source": [
    "africa_df = cleaned_df[cleaned_df['region'] == '4']\n",
    "evolution_conflict(africa_df, 'Africa')"
   ]
  },
  {
   "cell_type": "markdown",
   "metadata": {},
   "source": [
    "As stated before, the conflicts in Africa seems to have emerged after the IInd World War. Nonetheless, they grew in size to reach a certain threshold around 1976, where it remained since then."
   ]
  },
  {
   "cell_type": "code",
   "execution_count": null,
   "metadata": {
    "collapsed": true
   },
   "outputs": [],
   "source": [
    "asia_df = cleaned_df[cleaned_df['region'] == '3']\n",
    "evolution_conflict(asia_df, 'Asia')"
   ]
  },
  {
   "cell_type": "markdown",
   "metadata": {},
   "source": [
    "It seems that conflicts also increased in Asia and remained almost constant since 1976."
   ]
  },
  {
   "cell_type": "code",
   "execution_count": null,
   "metadata": {
    "collapsed": true
   },
   "outputs": [],
   "source": [
    "middle_df = cleaned_df[cleaned_df['region'] == '2']\n",
    "evolution_conflict(middle_df, 'Middle East')"
   ]
  },
  {
   "cell_type": "markdown",
   "metadata": {},
   "source": [
    "Conflicts in the Middle East are marked by waves of war and peace. The Six-Day War with Israel against other Arab countries can be observed in 1967. The Soviet-Afghan war can be observed in 1979, all the way to 1989. And now an escalation of tensions since the beginning of the war on Terrorism in 2001 and the instability it brought on the region."
   ]
  },
  {
   "cell_type": "markdown",
   "metadata": {},
   "source": [
    "## Relevant countries examples\n",
    "\n",
    "Our project will focus on a world map of the decolonization and the conflicts that emerged in countries after that. In order to observe if this is possible, we will perform a short analysis on chosen countries. We will study two main cases, countries where the decolonization was violent (Algeria, Congo...) and the ones where it was mostly peacefull (Syria, India ...)."
   ]
  },
  {
   "cell_type": "code",
   "execution_count": null,
   "metadata": {
    "collapsed": true
   },
   "outputs": [],
   "source": [
    "cleaned_df = clean_conflict\n",
    "\n",
    "def country_analysis(country_string):\n",
    "    # Plot number of conflicts over time / Add history related remarks? (Like a line at the independence)\n",
    "    current_df = cleaned_df[cleaned_df['location'].isin([country_string])]\n",
    "   \n",
    "    plt.figure(figsize=(20,5), dpi=60, facecolor='w', edgecolor='k')\n",
    "    y = current_df['year'].value_counts()\n",
    "    y = y.sort_index()\n",
    "    plt.plot(y.index, y.values)\n",
    "    plt.xlabel('Year')\n",
    "    plt.xticks(fontsize = 13, rotation='vertical')\n",
    "    plt.ylabel('Number of conflicts')\n",
    "    plt.title('Evolution of conflicts in %s' %(country_string))\n",
    "    plt.show()\n",
    "       \n",
    "    # Plot independance date on the graph\n",
    "    #if ~(decolonisation_df[decolonisation_df['Colonized Country'] == country_string].values[0].empty):\n",
    "    #    inde_date = decolonisation_df.loc[decolonisation_df['Colonized Country'] == country_string, 'Year'].values[0]\n",
    "    #    plt.axvline(inde_date, color = 'red')"
   ]
  },
  {
   "cell_type": "markdown",
   "metadata": {},
   "source": [
    "### Violently decolonized country - Algeria, Congo, Vietnam, Haiti?"
   ]
  },
  {
   "cell_type": "code",
   "execution_count": null,
   "metadata": {
    "collapsed": true
   },
   "outputs": [],
   "source": [
    "country_string = 'Algeria'\n",
    "#decolonisation_df[decolonisation_df['Colonized Country'] == country_string]\n",
    "current_df = cleaned_df[cleaned_df['location'] == country_string]\n",
    "country_analysis(country_string)"
   ]
  },
  {
   "cell_type": "code",
   "execution_count": null,
   "metadata": {
    "collapsed": true
   },
   "outputs": [],
   "source": [
    "country_string = 'Vietnam'\n",
    "#decolonisation_df[decolonisation_df['Colonized Country'] == country_string]\n",
    "current_df = cleaned_df[cleaned_df['location'] == country_string]\n",
    "country_analysis(country_string)"
   ]
  },
  {
   "cell_type": "markdown",
   "metadata": {},
   "source": [
    "### Peacefully decolonized country - India, Lebanon, Philippines?"
   ]
  },
  {
   "cell_type": "code",
   "execution_count": null,
   "metadata": {
    "collapsed": true
   },
   "outputs": [],
   "source": [
    "country_string = 'India'\n",
    "country_analysis(country_string)"
   ]
  },
  {
   "cell_type": "code",
   "execution_count": null,
   "metadata": {
    "collapsed": true
   },
   "outputs": [],
   "source": [
    "country_string = 'Philippines'\n",
    "country_analysis(country_string)"
   ]
  },
  {
   "cell_type": "markdown",
   "metadata": {
    "collapsed": true
   },
   "source": [
    "### Observation\n",
    "\n",
    "It seems that we lack informations to correctly identify the situations in the different former colonies. For example, Vietnam is known for the different conflicts that happened on its territory since its independance. \n",
    "For the next Milestone, we will have to push our analysis by using another UCDP dataset with more geolocalized conflicts to better assess the stability of the former colonies."
   ]
  },
  {
   "cell_type": "code",
   "execution_count": null,
   "metadata": {
    "collapsed": true
   },
   "outputs": [],
   "source": []
  }
 ],
 "metadata": {
  "kernelspec": {
   "display_name": "Python 3",
   "language": "python",
   "name": "python3"
  },
  "language_info": {
   "codemirror_mode": {
    "name": "ipython",
    "version": 3
   },
   "file_extension": ".py",
   "mimetype": "text/x-python",
   "name": "python",
   "nbconvert_exporter": "python",
   "pygments_lexer": "ipython3",
   "version": "3.6.1"
  }
 },
 "nbformat": 4,
 "nbformat_minor": 2
}
