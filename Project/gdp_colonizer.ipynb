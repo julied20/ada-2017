{
 "cells": [
  {
   "cell_type": "code",
   "execution_count": 106,
   "metadata": {
    "collapsed": true
   },
   "outputs": [],
   "source": [
    "import pandas as pd\n",
    "import numpy as np"
   ]
  },
  {
   "cell_type": "code",
   "execution_count": 139,
   "metadata": {
    "scrolled": false
   },
   "outputs": [],
   "source": [
    "countries_QDP_df = pd.read_csv('datasets/countries_GDP.csv', encoding = \"ISO-8859-1\").head(202)\n",
    "\n",
    "columns_to_keep = [\"Unnamed: 3\", \"Unnamed: 4\"]\n",
    "countries_QDP_df = countries_QDP_df[columns_to_keep]\n",
    "countries_QDP_df.rename(columns={'Unnamed: 3': 'country', 'Unnamed: 4': 'gdp'}, inplace=True)\n",
    "countries_QDP_df.drop([0,1,2,3], axis=0, inplace=True)\n",
    "countries_QDP_df = countries_QDP_df.reset_index(drop=True)\n",
    "\n",
    "countries_QDP_df['gdp'] = countries_QDP_df['gdp'].str.replace(',', '')\n",
    "countries_QDP_df['gdp'] = countries_QDP_df['gdp'].str.replace(' ', '')\n",
    "\n",
    "\n",
    "colonized_df = pd.read_csv('datasets/colonies_wikipedia.csv')\n",
    "colonized_countries = list(colonized_df[\"colonized_country\"])\n",
    "\n",
    "colonizer_countries = list(colonized_df[\"colonizer_country\"].value_counts().keys())\n",
    "colonizer_countries_gdp = {key: 0 for key in colonizer_countries}\n",
    "\n",
    "\n",
    "for index in range(len(countries_QDP_df)):\n",
    "    country = countries_QDP_df.get_value(index,'country')\n",
    "    if country in colonized_countries:\n",
    "        colonizer_country = colonized_df.loc[colonized_df['colonized_country'] == country, 'colonizer_country'].values[0]\n",
    "        country_gdp = countries_QDP_df.get_value(index,'gdp')\n",
    "        colonizer_countries_gdp [colonizer_country]=colonizer_countries_gdp [colonizer_country] + int(country_gdp)\n",
    "        \n",
    "        countries_QDP_df.set_value(index, 'colonizer_country', colonizer_country) \n",
    "    else:\n",
    "        countries_QDP_df = countries_QDP_df.drop(index, axis=0)\n",
    "\n",
    "countries_QDP_df = countries_QDP_df.reset_index(drop=True)"
   ]
  },
  {
   "cell_type": "code",
   "execution_count": 141,
   "metadata": {},
   "outputs": [
    {
     "data": {
      "text/html": [
       "<div>\n",
       "<style>\n",
       "    .dataframe thead tr:only-child th {\n",
       "        text-align: right;\n",
       "    }\n",
       "\n",
       "    .dataframe thead th {\n",
       "        text-align: left;\n",
       "    }\n",
       "\n",
       "    .dataframe tbody tr th {\n",
       "        vertical-align: top;\n",
       "    }\n",
       "</style>\n",
       "<table border=\"1\" class=\"dataframe\">\n",
       "  <thead>\n",
       "    <tr style=\"text-align: right;\">\n",
       "      <th></th>\n",
       "      <th>country</th>\n",
       "      <th>gdp</th>\n",
       "      <th>colonizer_country</th>\n",
       "    </tr>\n",
       "  </thead>\n",
       "  <tbody>\n",
       "    <tr>\n",
       "      <th>0</th>\n",
       "      <td>United States</td>\n",
       "      <td>18624475</td>\n",
       "      <td>France</td>\n",
       "    </tr>\n",
       "    <tr>\n",
       "      <th>1</th>\n",
       "      <td>India</td>\n",
       "      <td>2263792</td>\n",
       "      <td>United Kingdom</td>\n",
       "    </tr>\n",
       "    <tr>\n",
       "      <th>2</th>\n",
       "      <td>Brazil</td>\n",
       "      <td>1796187</td>\n",
       "      <td>Netherlands</td>\n",
       "    </tr>\n",
       "    <tr>\n",
       "      <th>3</th>\n",
       "      <td>Canada</td>\n",
       "      <td>1529760</td>\n",
       "      <td>United Kingdom</td>\n",
       "    </tr>\n",
       "    <tr>\n",
       "      <th>4</th>\n",
       "      <td>Australia</td>\n",
       "      <td>1204616</td>\n",
       "      <td>United Kingdom</td>\n",
       "    </tr>\n",
       "  </tbody>\n",
       "</table>\n",
       "</div>"
      ],
      "text/plain": [
       "         country       gdp colonizer_country\n",
       "0  United States  18624475            France\n",
       "1          India   2263792    United Kingdom\n",
       "2         Brazil   1796187       Netherlands\n",
       "3         Canada   1529760    United Kingdom\n",
       "4      Australia   1204616    United Kingdom"
      ]
     },
     "execution_count": 141,
     "metadata": {},
     "output_type": "execute_result"
    }
   ],
   "source": [
    "countries_QDP_df.head()"
   ]
  },
  {
   "cell_type": "code",
   "execution_count": 142,
   "metadata": {},
   "outputs": [
    {
     "data": {
      "text/plain": [
       "{'Belgium': 11383,\n",
       " 'Denmark': 20047,\n",
       " 'France': 19356877,\n",
       " 'Italy': 72374,\n",
       " 'Netherlands': 2953139,\n",
       " 'Portugal': 159935,\n",
       " 'Russia': 540933,\n",
       " 'Spain': 3249811,\n",
       " 'United Kingdom': 8523185}"
      ]
     },
     "execution_count": 142,
     "metadata": {},
     "output_type": "execute_result"
    }
   ],
   "source": [
    "colonizer_countries_gdp "
   ]
  },
  {
   "cell_type": "code",
   "execution_count": null,
   "metadata": {
    "collapsed": true
   },
   "outputs": [],
   "source": []
  }
 ],
 "metadata": {
  "kernelspec": {
   "display_name": "Python 3",
   "language": "python",
   "name": "python3"
  },
  "language_info": {
   "codemirror_mode": {
    "name": "ipython",
    "version": 3
   },
   "file_extension": ".py",
   "mimetype": "text/x-python",
   "name": "python",
   "nbconvert_exporter": "python",
   "pygments_lexer": "ipython3",
   "version": "3.6.1"
  }
 },
 "nbformat": 4,
 "nbformat_minor": 2
}
